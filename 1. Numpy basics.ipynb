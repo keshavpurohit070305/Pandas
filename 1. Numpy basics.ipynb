{
 "cells": [
  {
   "cell_type": "code",
   "execution_count": 1,
   "id": "0c11627c-28be-4891-aa4e-a13d83f0a4e0",
   "metadata": {},
   "outputs": [],
   "source": [
    "#numpy>> numerical python\n",
    "#2005 by Travis Oliphant\n",
    "#before 2005 there were special mathematical tools (similar to Tora, Linga)"
   ]
  },
  {
   "cell_type": "code",
   "execution_count": null,
   "id": "92cc0cd6-d200-4cc5-86b7-fc0ca5bcfd7d",
   "metadata": {},
   "outputs": [],
   "source": [
    " #as is aliasimport numpy as np"
   ]
  },
  {
   "cell_type": "code",
   "execution_count": 3,
   "id": "715f59f2-67b8-4282-b292-4a1c8a12d227",
   "metadata": {},
   "outputs": [
    {
     "data": {
      "text/plain": [
       "'1.23.5'"
      ]
     },
     "execution_count": 3,
     "metadata": {},
     "output_type": "execute_result"
    }
   ],
   "source": [
    "np.__version__"
   ]
  },
  {
   "cell_type": "code",
   "execution_count": 4,
   "id": "6d8987e1-1b58-46a7-b4fe-967c575d9b2f",
   "metadata": {},
   "outputs": [
    {
     "name": "stdout",
     "output_type": "stream",
     "text": [
      "\n",
      "NumPy\n",
      "=====\n",
      "\n",
      "Provides\n",
      "  1. An array object of arbitrary homogeneous items\n",
      "  2. Fast mathematical operations over arrays\n",
      "  3. Linear Algebra, Fourier Transforms, Random Number Generation\n",
      "\n",
      "How to use the documentation\n",
      "----------------------------\n",
      "Documentation is available in two forms: docstrings provided\n",
      "with the code, and a loose standing reference guide, available from\n",
      "`the NumPy homepage <https://numpy.org>`_.\n",
      "\n",
      "We recommend exploring the docstrings using\n",
      "`IPython <https://ipython.org>`_, an advanced Python shell with\n",
      "TAB-completion and introspection capabilities.  See below for further\n",
      "instructions.\n",
      "\n",
      "The docstring examples assume that `numpy` has been imported as `np`::\n",
      "\n",
      "  >>> import numpy as np\n",
      "\n",
      "Code snippets are indicated by three greater-than signs::\n",
      "\n",
      "  >>> x = 42\n",
      "  >>> x = x + 1\n",
      "\n",
      "Use the built-in ``help`` function to view a function's docstring::\n",
      "\n",
      "  >>> help(np.sort)\n",
      "  ... # doctest: +SKIP\n",
      "\n",
      "For some objects, ``np.info(obj)`` may provide additional help.  This is\n",
      "particularly true if you see the line \"Help on ufunc object:\" at the top\n",
      "of the help() page.  Ufuncs are implemented in C, not Python, for speed.\n",
      "The native Python help() does not know how to view their help, but our\n",
      "np.info() function does.\n",
      "\n",
      "To search for documents containing a keyword, do::\n",
      "\n",
      "  >>> np.lookfor('keyword')\n",
      "  ... # doctest: +SKIP\n",
      "\n",
      "General-purpose documents like a glossary and help on the basic concepts\n",
      "of numpy are available under the ``doc`` sub-module::\n",
      "\n",
      "  >>> from numpy import doc\n",
      "  >>> help(doc)\n",
      "  ... # doctest: +SKIP\n",
      "\n",
      "Available subpackages\n",
      "---------------------\n",
      "lib\n",
      "    Basic functions used by several sub-packages.\n",
      "random\n",
      "    Core Random Tools\n",
      "linalg\n",
      "    Core Linear Algebra Tools\n",
      "fft\n",
      "    Core FFT routines\n",
      "polynomial\n",
      "    Polynomial tools\n",
      "testing\n",
      "    NumPy testing tools\n",
      "distutils\n",
      "    Enhancements to distutils with support for\n",
      "    Fortran compilers support and more.\n",
      "\n",
      "Utilities\n",
      "---------\n",
      "test\n",
      "    Run numpy unittests\n",
      "show_config\n",
      "    Show numpy build configuration\n",
      "dual\n",
      "    Overwrite certain functions with high-performance SciPy tools.\n",
      "    Note: `numpy.dual` is deprecated.  Use the functions from NumPy or Scipy\n",
      "    directly instead of importing them from `numpy.dual`.\n",
      "matlib\n",
      "    Make everything matrices.\n",
      "__version__\n",
      "    NumPy version string\n",
      "\n",
      "Viewing documentation using IPython\n",
      "-----------------------------------\n",
      "Start IPython with the NumPy profile (``ipython -p numpy``), which will\n",
      "import `numpy` under the alias `np`.  Then, use the ``cpaste`` command to\n",
      "paste examples into the shell.  To see which functions are available in\n",
      "`numpy`, type ``np.<TAB>`` (where ``<TAB>`` refers to the TAB key), or use\n",
      "``np.*cos*?<ENTER>`` (where ``<ENTER>`` refers to the ENTER key) to narrow\n",
      "down the list.  To view the docstring for a function, use\n",
      "``np.cos?<ENTER>`` (to view the docstring) and ``np.cos??<ENTER>`` (to view\n",
      "the source code).\n",
      "\n",
      "Copies vs. in-place operation\n",
      "-----------------------------\n",
      "Most of the functions in `numpy` return a copy of the array argument\n",
      "(e.g., `np.sort`).  In-place versions of these functions are often\n",
      "available as array methods, i.e. ``x = np.array([1,2,3]); x.sort()``.\n",
      "Exceptions to this rule are documented.\n",
      "\n",
      "\n"
     ]
    }
   ],
   "source": [
    "print(np.__doc__)"
   ]
  },
  {
   "cell_type": "code",
   "execution_count": 5,
   "id": "8b525f66-0bac-47ff-9c1d-856b3e904ea7",
   "metadata": {},
   "outputs": [
    {
     "data": {
      "text/plain": [
       "list"
      ]
     },
     "execution_count": 5,
     "metadata": {},
     "output_type": "execute_result"
    }
   ],
   "source": [
    "lis = [1, 2, 3, \"pwskills\", 3+5j, True, 1.2] #list stores heterogenous data\n",
    "type(lis)"
   ]
  },
  {
   "cell_type": "code",
   "execution_count": 6,
   "id": "5304f690-0e53-4730-bbfd-5c29a52bb22d",
   "metadata": {},
   "outputs": [],
   "source": [
    "#Numpy stored the data in a numpy array\n",
    "#An array is a container/data structure used to store data of same data type>> homogenous"
   ]
  },
  {
   "cell_type": "code",
   "execution_count": null,
   "id": "ed243b2a-61d1-4859-9ee1-5f0ae599c152",
   "metadata": {},
   "outputs": [],
   "source": [
    "#why numpy? already we have list, C is one of the fastest programming language after c++\n",
    "#numpy is built using C>> Numpy computation is fast\n",
    "#due to array>>since it stores only homogenous data, numpy array is faster\n",
    "#since it stores homogenous data>> contiguous/continuous memory location\n",
    "#Mathematical computation is fast"
   ]
  },
  {
   "cell_type": "code",
   "execution_count": 7,
   "id": "71e5a1d5-fb8d-4603-9153-86c4347b4e6d",
   "metadata": {},
   "outputs": [],
   "source": [
    "l = [1, 2, 3, 4, 5] #numpy array is homogenous>>all elements can be interger, float, string"
   ]
  },
  {
   "cell_type": "code",
   "execution_count": 10,
   "id": "6e47d24d-a888-4eee-a667-e1703ee429d3",
   "metadata": {},
   "outputs": [],
   "source": [
    "arr = np.array(l) #numpy.ndarray>>n dimensional array"
   ]
  },
  {
   "cell_type": "code",
   "execution_count": 11,
   "id": "41b76bbd-1d1d-463e-95a2-f25804c92b92",
   "metadata": {},
   "outputs": [
    {
     "data": {
      "text/plain": [
       "numpy.ndarray"
      ]
     },
     "execution_count": 11,
     "metadata": {},
     "output_type": "execute_result"
    }
   ],
   "source": [
    "type(arr)"
   ]
  },
  {
   "cell_type": "code",
   "execution_count": 13,
   "id": "f5f74c84-892a-46e5-9333-74589de23110",
   "metadata": {},
   "outputs": [
    {
     "data": {
      "text/plain": [
       "array([1, 2, 3, 4, 5])"
      ]
     },
     "execution_count": 13,
     "metadata": {},
     "output_type": "execute_result"
    }
   ],
   "source": [
    "arr"
   ]
  },
  {
   "cell_type": "code",
   "execution_count": 12,
   "id": "dec833ce-4d9b-40fc-9012-1193c08116d7",
   "metadata": {},
   "outputs": [
    {
     "data": {
      "text/plain": [
       "array(['1', '2', '3', '4', '5', 'Ajay'], dtype='<U21')"
      ]
     },
     "execution_count": 12,
     "metadata": {},
     "output_type": "execute_result"
    }
   ],
   "source": [
    "l = [1, 2, 3, 4, 5, \"Ajay\"]\n",
    "np.array(l)"
   ]
  },
  {
   "cell_type": "code",
   "execution_count": null,
   "id": "e60b4290-1c5d-4781-8b9f-afe63fd7fef1",
   "metadata": {},
   "outputs": [],
   "source": [
    "#array stores homogenous data"
   ]
  },
  {
   "cell_type": "code",
   "execution_count": 14,
   "id": "d75db728-8203-474d-af7a-6609bbb0259e",
   "metadata": {},
   "outputs": [
    {
     "data": {
      "text/plain": [
       "array([1. , 2. , 3. , 4. , 5. , 2.5])"
      ]
     },
     "execution_count": 14,
     "metadata": {},
     "output_type": "execute_result"
    }
   ],
   "source": [
    "l = [1, 2, 3, 4, 5, 2.5]\n",
    "np.array(l)"
   ]
  },
  {
   "cell_type": "code",
   "execution_count": 15,
   "id": "2c43feb2-119f-45ce-8d61-b3146a6bc42d",
   "metadata": {},
   "outputs": [
    {
     "data": {
      "text/plain": [
       "array(['1', '2', '3', '4', '5', '2.5', 'pwskills'], dtype='<U32')"
      ]
     },
     "execution_count": 15,
     "metadata": {},
     "output_type": "execute_result"
    }
   ],
   "source": [
    "l = [1, 2, 3, 4, 5, 2.5, \"pwskills\"]\n",
    "np.array(l)"
   ]
  },
  {
   "cell_type": "code",
   "execution_count": 16,
   "id": "63df7c3e-a659-4150-8ab3-3f2c955e18c3",
   "metadata": {},
   "outputs": [
    {
     "data": {
      "text/plain": [
       "numpy.ndarray"
      ]
     },
     "execution_count": 16,
     "metadata": {},
     "output_type": "execute_result"
    }
   ],
   "source": [
    "type(arr)"
   ]
  },
  {
   "cell_type": "code",
   "execution_count": 17,
   "id": "a759a228-12ed-4e56-ba44-8e293848fa2b",
   "metadata": {},
   "outputs": [
    {
     "data": {
      "text/plain": [
       "array([1, 2, 3, 4, 5])"
      ]
     },
     "execution_count": 17,
     "metadata": {},
     "output_type": "execute_result"
    }
   ],
   "source": [
    "arr"
   ]
  },
  {
   "cell_type": "code",
   "execution_count": 18,
   "id": "5a111f78-520c-4c04-b264-e1a866f1a34e",
   "metadata": {},
   "outputs": [
    {
     "data": {
      "text/plain": [
       "1"
      ]
     },
     "execution_count": 18,
     "metadata": {},
     "output_type": "execute_result"
    }
   ],
   "source": [
    "arr.ndim #arr has only rows"
   ]
  },
  {
   "cell_type": "code",
   "execution_count": 20,
   "id": "3f0de339-cb9e-45d8-b3d3-21ca151d1dbf",
   "metadata": {},
   "outputs": [],
   "source": [
    "arr1 = np.array([[1, 2, 3], [4, 5, 6]])"
   ]
  },
  {
   "cell_type": "code",
   "execution_count": 21,
   "id": "2a0eb8d8-097f-4860-85c4-5d21965733e6",
   "metadata": {},
   "outputs": [
    {
     "data": {
      "text/plain": [
       "array([[1, 2, 3],\n",
       "       [4, 5, 6]])"
      ]
     },
     "execution_count": 21,
     "metadata": {},
     "output_type": "execute_result"
    }
   ],
   "source": [
    "arr1"
   ]
  },
  {
   "cell_type": "code",
   "execution_count": 22,
   "id": "afe7ecb7-bbc5-4009-8577-414a180ac521",
   "metadata": {},
   "outputs": [
    {
     "data": {
      "text/plain": [
       "2"
      ]
     },
     "execution_count": 22,
     "metadata": {},
     "output_type": "execute_result"
    }
   ],
   "source": [
    "arr1.ndim"
   ]
  },
  {
   "cell_type": "code",
   "execution_count": 24,
   "id": "bd4b9850-0d4b-4ae7-b2dc-e73d41e265f9",
   "metadata": {},
   "outputs": [],
   "source": [
    "mat = np.matrix([1, 2, 3, 4]) #matrix is a specialised array of 2 dimension"
   ]
  },
  {
   "cell_type": "code",
   "execution_count": 25,
   "id": "93c3a4d2-468b-4833-9d36-33f5014a687e",
   "metadata": {},
   "outputs": [
    {
     "data": {
      "text/plain": [
       "numpy.matrix"
      ]
     },
     "execution_count": 25,
     "metadata": {},
     "output_type": "execute_result"
    }
   ],
   "source": [
    "type(mat)"
   ]
  },
  {
   "cell_type": "code",
   "execution_count": 26,
   "id": "b864d965-5568-4e73-b3e7-ecc406a8c95e",
   "metadata": {},
   "outputs": [
    {
     "data": {
      "text/plain": [
       "2"
      ]
     },
     "execution_count": 26,
     "metadata": {},
     "output_type": "execute_result"
    }
   ],
   "source": [
    "mat.ndim"
   ]
  },
  {
   "cell_type": "code",
   "execution_count": 27,
   "id": "9eeb54b3-1bd3-42ec-b0b4-b02eb886fa19",
   "metadata": {},
   "outputs": [
    {
     "data": {
      "text/plain": [
       "matrix([[1, 2, 3, 4]])"
      ]
     },
     "execution_count": 27,
     "metadata": {},
     "output_type": "execute_result"
    }
   ],
   "source": [
    "mat"
   ]
  },
  {
   "cell_type": "code",
   "execution_count": null,
   "id": "a8b53d7d-9c36-498f-b454-61c706c5bd81",
   "metadata": {},
   "outputs": [],
   "source": [
    "#To understand the dimension, see the no of opening/closing square bracket"
   ]
  },
  {
   "cell_type": "code",
   "execution_count": 28,
   "id": "ab0a3dc4-d13c-4e3e-b454-3bee823fc0e4",
   "metadata": {},
   "outputs": [
    {
     "ename": "ValueError",
     "evalue": "matrix must be 2-dimensional",
     "output_type": "error",
     "traceback": [
      "\u001b[0;31m---------------------------------------------------------------------------\u001b[0m",
      "\u001b[0;31mValueError\u001b[0m                                Traceback (most recent call last)",
      "Cell \u001b[0;32mIn[28], line 1\u001b[0m\n\u001b[0;32m----> 1\u001b[0m \u001b[43mnp\u001b[49m\u001b[38;5;241;43m.\u001b[39;49m\u001b[43mmatrix\u001b[49m\u001b[43m(\u001b[49m\u001b[43m[\u001b[49m\u001b[43m[\u001b[49m\u001b[43m[\u001b[49m\u001b[38;5;241;43m1\u001b[39;49m\u001b[43m,\u001b[49m\u001b[43m \u001b[49m\u001b[38;5;241;43m2\u001b[39;49m\u001b[43m]\u001b[49m\u001b[43m,\u001b[49m\u001b[43m \u001b[49m\u001b[43m[\u001b[49m\u001b[38;5;241;43m1\u001b[39;49m\u001b[43m,\u001b[49m\u001b[43m \u001b[49m\u001b[38;5;241;43m5\u001b[39;49m\u001b[43m]\u001b[49m\u001b[43m,\u001b[49m\u001b[43m \u001b[49m\u001b[43m[\u001b[49m\u001b[38;5;241;43m3\u001b[39;49m\u001b[43m,\u001b[49m\u001b[43m \u001b[49m\u001b[38;5;241;43m6\u001b[39;49m\u001b[43m]\u001b[49m\u001b[43m]\u001b[49m\u001b[43m]\u001b[49m\u001b[43m)\u001b[49m\n",
      "File \u001b[0;32m/opt/conda/lib/python3.10/site-packages/numpy/matrixlib/defmatrix.py:149\u001b[0m, in \u001b[0;36mmatrix.__new__\u001b[0;34m(subtype, data, dtype, copy)\u001b[0m\n\u001b[1;32m    147\u001b[0m shape \u001b[38;5;241m=\u001b[39m arr\u001b[38;5;241m.\u001b[39mshape\n\u001b[1;32m    148\u001b[0m \u001b[38;5;28;01mif\u001b[39;00m (ndim \u001b[38;5;241m>\u001b[39m \u001b[38;5;241m2\u001b[39m):\n\u001b[0;32m--> 149\u001b[0m     \u001b[38;5;28;01mraise\u001b[39;00m \u001b[38;5;167;01mValueError\u001b[39;00m(\u001b[38;5;124m\"\u001b[39m\u001b[38;5;124mmatrix must be 2-dimensional\u001b[39m\u001b[38;5;124m\"\u001b[39m)\n\u001b[1;32m    150\u001b[0m \u001b[38;5;28;01melif\u001b[39;00m ndim \u001b[38;5;241m==\u001b[39m \u001b[38;5;241m0\u001b[39m:\n\u001b[1;32m    151\u001b[0m     shape \u001b[38;5;241m=\u001b[39m (\u001b[38;5;241m1\u001b[39m, \u001b[38;5;241m1\u001b[39m)\n",
      "\u001b[0;31mValueError\u001b[0m: matrix must be 2-dimensional"
     ]
    }
   ],
   "source": [
    "np.matrix([[[1, 2], [1, 5], [3, 6]]]) #will throw error-matrix must be 2-dimensional"
   ]
  },
  {
   "cell_type": "code",
   "execution_count": 29,
   "id": "e5fd0146-e441-4cc6-bf33-828fd0f4c220",
   "metadata": {},
   "outputs": [],
   "source": [
    "arr3 = np.array([[[1, 2], [1, 5], [3, 6]]])"
   ]
  },
  {
   "cell_type": "code",
   "execution_count": 30,
   "id": "fdb3a490-e44e-4a41-83ae-71c20ab14f4f",
   "metadata": {},
   "outputs": [
    {
     "data": {
      "text/plain": [
       "array([[[1, 2],\n",
       "        [1, 5],\n",
       "        [3, 6]]])"
      ]
     },
     "execution_count": 30,
     "metadata": {},
     "output_type": "execute_result"
    }
   ],
   "source": [
    "arr3"
   ]
  },
  {
   "cell_type": "code",
   "execution_count": 31,
   "id": "dd2e2ebd-d308-40ad-9542-05244da4c959",
   "metadata": {},
   "outputs": [
    {
     "data": {
      "text/plain": [
       "3"
      ]
     },
     "execution_count": 31,
     "metadata": {},
     "output_type": "execute_result"
    }
   ],
   "source": [
    "arr3.ndim"
   ]
  },
  {
   "cell_type": "code",
   "execution_count": 32,
   "id": "4cbe0c35-44f7-4c5e-a6b4-fdd8177c62a7",
   "metadata": {},
   "outputs": [
    {
     "data": {
      "text/plain": [
       "array([1, 2, 3])"
      ]
     },
     "execution_count": 32,
     "metadata": {},
     "output_type": "execute_result"
    }
   ],
   "source": [
    "#more ways to array\n",
    "l = [1, 2, 3]\n",
    "np.asarray(l) #initial function asarray to convert to an array, np.array came after this"
   ]
  },
  {
   "cell_type": "code",
   "execution_count": 34,
   "id": "3e6e7343-439b-4276-86bc-4665ce4ce2d5",
   "metadata": {},
   "outputs": [
    {
     "data": {
      "text/plain": [
       "array([1, 2, 3])"
      ]
     },
     "execution_count": 34,
     "metadata": {},
     "output_type": "execute_result"
    }
   ],
   "source": [
    "np.asanyarray([1, 2, 3])"
   ]
  },
  {
   "cell_type": "code",
   "execution_count": 35,
   "id": "f765619b-f848-4f6a-a5c5-f70f4f6efea7",
   "metadata": {},
   "outputs": [],
   "source": [
    "#asanyarray will contert the input to an ndarray, but pass ndarray subclasses through\n",
    "#if something is already an array or part of array, it will simply allow to pass through it"
   ]
  },
  {
   "cell_type": "code",
   "execution_count": 36,
   "id": "20911fa7-6004-443b-a51b-96f09752c33e",
   "metadata": {},
   "outputs": [
    {
     "data": {
      "text/plain": [
       "array([1, 2, 3])"
      ]
     },
     "execution_count": 36,
     "metadata": {},
     "output_type": "execute_result"
    }
   ],
   "source": [
    "np.asanyarray([1, 2, 3])"
   ]
  },
  {
   "cell_type": "code",
   "execution_count": 37,
   "id": "a056ad6d-8f55-4937-9f1e-da4d94f36ab0",
   "metadata": {},
   "outputs": [
    {
     "data": {
      "text/plain": [
       "matrix([[1, 2, 3, 4]])"
      ]
     },
     "execution_count": 37,
     "metadata": {},
     "output_type": "execute_result"
    }
   ],
   "source": [
    "mat"
   ]
  },
  {
   "cell_type": "code",
   "execution_count": 38,
   "id": "4edccf37-3690-4a52-97d2-fd081c4d7b8a",
   "metadata": {},
   "outputs": [
    {
     "data": {
      "text/plain": [
       "matrix([[1, 2, 3, 4]])"
      ]
     },
     "execution_count": 38,
     "metadata": {},
     "output_type": "execute_result"
    }
   ],
   "source": [
    "np.asanyarray(mat)"
   ]
  },
  {
   "cell_type": "code",
   "execution_count": 39,
   "id": "8f563aa7-26cc-4719-8329-1b44c6903ae3",
   "metadata": {},
   "outputs": [
    {
     "data": {
      "text/plain": [
       "tuple"
      ]
     },
     "execution_count": 39,
     "metadata": {},
     "output_type": "execute_result"
    }
   ],
   "source": [
    "t = ([1, 2, 3], [4, 5, 6])\n",
    "type(t)"
   ]
  },
  {
   "cell_type": "code",
   "execution_count": 40,
   "id": "38386803-89aa-4663-98a3-977807a9179e",
   "metadata": {},
   "outputs": [
    {
     "data": {
      "text/plain": [
       "array([[1, 2, 3],\n",
       "       [4, 5, 6]])"
      ]
     },
     "execution_count": 40,
     "metadata": {},
     "output_type": "execute_result"
    }
   ],
   "source": [
    "np.array(t)"
   ]
  },
  {
   "cell_type": "code",
   "execution_count": 41,
   "id": "e45f392a-01cb-4539-ad88-4368dada3015",
   "metadata": {},
   "outputs": [
    {
     "data": {
      "text/plain": [
       "array([1, 2, 3, 4, 5])"
      ]
     },
     "execution_count": 41,
     "metadata": {},
     "output_type": "execute_result"
    }
   ],
   "source": [
    "arr"
   ]
  },
  {
   "cell_type": "code",
   "execution_count": 43,
   "id": "c2f04929-a8b0-4c86-aa2d-e1324e770d31",
   "metadata": {},
   "outputs": [
    {
     "data": {
      "text/plain": [
       "1"
      ]
     },
     "execution_count": 43,
     "metadata": {},
     "output_type": "execute_result"
    }
   ],
   "source": [
    "#accessing elements of the array\n",
    "arr[0]"
   ]
  },
  {
   "cell_type": "code",
   "execution_count": 44,
   "id": "ca7086f3-932e-4a2f-93c1-671838132099",
   "metadata": {},
   "outputs": [],
   "source": [
    "#array is mutable\n",
    "arr[0] = 1000"
   ]
  },
  {
   "cell_type": "code",
   "execution_count": 45,
   "id": "cf8cb290-a39c-42b2-96e7-84658c328864",
   "metadata": {},
   "outputs": [
    {
     "data": {
      "text/plain": [
       "array([1000,    2,    3,    4,    5])"
      ]
     },
     "execution_count": 45,
     "metadata": {},
     "output_type": "execute_result"
    }
   ],
   "source": [
    "arr"
   ]
  },
  {
   "cell_type": "code",
   "execution_count": 46,
   "id": "2a76e927-0858-49c9-a909-79d0055bdc7d",
   "metadata": {},
   "outputs": [
    {
     "data": {
      "text/plain": [
       "array([1000,    2,    3,    4,    5])"
      ]
     },
     "execution_count": 46,
     "metadata": {},
     "output_type": "execute_result"
    }
   ],
   "source": [
    "arr"
   ]
  },
  {
   "cell_type": "code",
   "execution_count": 48,
   "id": "0808f384-c518-497f-9898-c27f3e9c3bcc",
   "metadata": {},
   "outputs": [],
   "source": [
    "#a and arr will point to same memory location, so if there is change is a or arr\n",
    "#it will reflect on both\n",
    "\n",
    "a = arr "
   ]
  },
  {
   "cell_type": "code",
   "execution_count": 49,
   "id": "a8ff514c-8e00-4135-a251-095f3b1cc203",
   "metadata": {},
   "outputs": [
    {
     "data": {
      "text/plain": [
       "array([1000,    2,    3,    4,    5])"
      ]
     },
     "execution_count": 49,
     "metadata": {},
     "output_type": "execute_result"
    }
   ],
   "source": [
    "a"
   ]
  },
  {
   "cell_type": "code",
   "execution_count": 50,
   "id": "84fad9d3-138a-490c-8e61-0f277ff6b0c5",
   "metadata": {},
   "outputs": [
    {
     "data": {
      "text/plain": [
       "array([1000,    2,    3,    4,    5])"
      ]
     },
     "execution_count": 50,
     "metadata": {},
     "output_type": "execute_result"
    }
   ],
   "source": [
    "arr"
   ]
  },
  {
   "cell_type": "code",
   "execution_count": 51,
   "id": "4c103cd3-695e-47d6-9ff9-d4ed8b77eaa8",
   "metadata": {},
   "outputs": [],
   "source": [
    "#shallow copy>> change in one array will lead to change in another"
   ]
  },
  {
   "cell_type": "code",
   "execution_count": 54,
   "id": "cd0ebd2d-d7b5-48e1-a5c1-5eeecc4daf3b",
   "metadata": {},
   "outputs": [],
   "source": [
    "a[0] = 5000"
   ]
  },
  {
   "cell_type": "code",
   "execution_count": 55,
   "id": "715ddc5c-279c-4157-b73e-aa0fe348faf6",
   "metadata": {},
   "outputs": [
    {
     "data": {
      "text/plain": [
       "array([5000,    2,    3,    4,    5])"
      ]
     },
     "execution_count": 55,
     "metadata": {},
     "output_type": "execute_result"
    }
   ],
   "source": [
    "a"
   ]
  },
  {
   "cell_type": "code",
   "execution_count": 56,
   "id": "6e25eff7-6bc1-4388-b00e-3aa5855855b5",
   "metadata": {},
   "outputs": [
    {
     "data": {
      "text/plain": [
       "array([5000,    2,    3,    4,    5])"
      ]
     },
     "execution_count": 56,
     "metadata": {},
     "output_type": "execute_result"
    }
   ],
   "source": [
    "arr"
   ]
  },
  {
   "cell_type": "code",
   "execution_count": 57,
   "id": "3cf19183-f630-4618-b07c-496d30380748",
   "metadata": {},
   "outputs": [
    {
     "data": {
      "text/plain": [
       "array([5000,    2,    3,    4,    5])"
      ]
     },
     "execution_count": 57,
     "metadata": {},
     "output_type": "execute_result"
    }
   ],
   "source": [
    "arr"
   ]
  },
  {
   "cell_type": "code",
   "execution_count": 58,
   "id": "6db68fa3-e34c-4012-ae2f-bb9364da6e20",
   "metadata": {},
   "outputs": [],
   "source": [
    "b = arr.copy() #deep copy>> change in one array will not reflect in another"
   ]
  },
  {
   "cell_type": "code",
   "execution_count": 59,
   "id": "04c42086-126d-416c-819c-397b4b5a87d9",
   "metadata": {},
   "outputs": [
    {
     "data": {
      "text/plain": [
       "array([5000,    2,    3,    4,    5])"
      ]
     },
     "execution_count": 59,
     "metadata": {},
     "output_type": "execute_result"
    }
   ],
   "source": [
    "b"
   ]
  },
  {
   "cell_type": "code",
   "execution_count": 62,
   "id": "da4a67b0-9d15-4474-b244-47e16e3f8544",
   "metadata": {},
   "outputs": [],
   "source": [
    "b[0] = 11000"
   ]
  },
  {
   "cell_type": "code",
   "execution_count": 63,
   "id": "92659063-a36b-4638-824a-65cbfdcaee2a",
   "metadata": {},
   "outputs": [
    {
     "data": {
      "text/plain": [
       "array([11000,     2,     3,     4,     5])"
      ]
     },
     "execution_count": 63,
     "metadata": {},
     "output_type": "execute_result"
    }
   ],
   "source": [
    "b"
   ]
  },
  {
   "cell_type": "code",
   "execution_count": 64,
   "id": "085e7d66-2d44-4245-a472-3006ab4db428",
   "metadata": {},
   "outputs": [
    {
     "data": {
      "text/plain": [
       "array([5000,    2,    3,    4,    5])"
      ]
     },
     "execution_count": 64,
     "metadata": {},
     "output_type": "execute_result"
    }
   ],
   "source": [
    "arr"
   ]
  },
  {
   "cell_type": "code",
   "execution_count": 65,
   "id": "3713b891-3822-441d-a627-8e28bfab9664",
   "metadata": {},
   "outputs": [],
   "source": [
    "#To create an array>> np.array, np.asarray, np.asany array"
   ]
  },
  {
   "cell_type": "code",
   "execution_count": null,
   "id": "574bd2ce-ef5d-40ee-9cad-896b67d9f926",
   "metadata": {},
   "outputs": [],
   "source": [
    "#multiple approaches to generate any array"
   ]
  },
  {
   "cell_type": "code",
   "execution_count": 69,
   "id": "5f765530-df5d-4d4f-99d2-8e95e284e44a",
   "metadata": {},
   "outputs": [],
   "source": [
    "arr1 = np.fromfunction(lambda i, j: i==j, (3,3)) #Construct an array by executing a function over each coordinate"
   ]
  },
  {
   "cell_type": "code",
   "execution_count": 70,
   "id": "324b9125-b3e0-4c94-94e7-00f974c79803",
   "metadata": {},
   "outputs": [
    {
     "data": {
      "text/plain": [
       "array([[ True, False, False],\n",
       "       [False,  True, False],\n",
       "       [False, False,  True]])"
      ]
     },
     "execution_count": 70,
     "metadata": {},
     "output_type": "execute_result"
    }
   ],
   "source": [
    "arr1"
   ]
  },
  {
   "cell_type": "code",
   "execution_count": 71,
   "id": "dbf7b7bb-ad34-4d84-a72b-6e924a4fb85f",
   "metadata": {},
   "outputs": [
    {
     "data": {
      "text/plain": [
       "2"
      ]
     },
     "execution_count": 71,
     "metadata": {},
     "output_type": "execute_result"
    }
   ],
   "source": [
    "arr1.ndim"
   ]
  },
  {
   "cell_type": "code",
   "execution_count": 72,
   "id": "c3d83b2a-3062-43f0-9daf-e6961564bc50",
   "metadata": {},
   "outputs": [
    {
     "data": {
      "text/plain": [
       "(3, 3)"
      ]
     },
     "execution_count": 72,
     "metadata": {},
     "output_type": "execute_result"
    }
   ],
   "source": [
    "arr1.shape #shape of array"
   ]
  },
  {
   "cell_type": "code",
   "execution_count": 73,
   "id": "791b2e10-042c-43e1-9789-f0003e2cd575",
   "metadata": {},
   "outputs": [
    {
     "data": {
      "text/plain": [
       "9"
      ]
     },
     "execution_count": 73,
     "metadata": {},
     "output_type": "execute_result"
    }
   ],
   "source": [
    "arr1.size #no of elements in array"
   ]
  },
  {
   "cell_type": "code",
   "execution_count": 74,
   "id": "4347c541-0be1-4615-94f5-9d02d15a83ba",
   "metadata": {},
   "outputs": [
    {
     "data": {
      "text/plain": [
       "1"
      ]
     },
     "execution_count": 74,
     "metadata": {},
     "output_type": "execute_result"
    }
   ],
   "source": [
    "#True is stored as 1 and False 0 in python\n",
    "True-False"
   ]
  },
  {
   "cell_type": "code",
   "execution_count": 76,
   "id": "9d8d4299-dbee-4d65-8102-e53a96075300",
   "metadata": {},
   "outputs": [],
   "source": [
    "arr2 = np.fromfunction(lambda i, j: i*j, (3,3))"
   ]
  },
  {
   "cell_type": "code",
   "execution_count": 77,
   "id": "7edfbcc8-565e-4014-a853-17b21f211400",
   "metadata": {},
   "outputs": [
    {
     "data": {
      "text/plain": [
       "array([[0., 0., 0.],\n",
       "       [0., 1., 2.],\n",
       "       [0., 2., 4.]])"
      ]
     },
     "execution_count": 77,
     "metadata": {},
     "output_type": "execute_result"
    }
   ],
   "source": [
    "arr2"
   ]
  },
  {
   "cell_type": "code",
   "execution_count": 78,
   "id": "62539b09-106d-403b-bf31-8d30893534af",
   "metadata": {},
   "outputs": [
    {
     "data": {
      "text/plain": [
       "2"
      ]
     },
     "execution_count": 78,
     "metadata": {},
     "output_type": "execute_result"
    }
   ],
   "source": [
    "arr2.ndim"
   ]
  },
  {
   "cell_type": "code",
   "execution_count": 79,
   "id": "fd764eb4-6057-47b9-8185-28246667291b",
   "metadata": {},
   "outputs": [
    {
     "data": {
      "text/plain": [
       "(3, 3)"
      ]
     },
     "execution_count": 79,
     "metadata": {},
     "output_type": "execute_result"
    }
   ],
   "source": [
    "arr2.shape"
   ]
  },
  {
   "cell_type": "code",
   "execution_count": 80,
   "id": "87b1aac4-f0df-45c0-b8d1-5893f62df6e7",
   "metadata": {},
   "outputs": [
    {
     "data": {
      "text/plain": [
       "9"
      ]
     },
     "execution_count": 80,
     "metadata": {},
     "output_type": "execute_result"
    }
   ],
   "source": [
    "arr2.size"
   ]
  },
  {
   "cell_type": "code",
   "execution_count": 81,
   "id": "32583e12-29fe-4f1e-88ab-0d5b8f15ce81",
   "metadata": {},
   "outputs": [
    {
     "name": "stdout",
     "output_type": "stream",
     "text": [
      "0\n",
      "1\n",
      "2\n",
      "3\n",
      "4\n"
     ]
    }
   ],
   "source": [
    "for i in range(5):\n",
    "    print(i)"
   ]
  },
  {
   "cell_type": "code",
   "execution_count": 82,
   "id": "e44f9ca6-a883-4223-959b-a45bbe300aa1",
   "metadata": {},
   "outputs": [
    {
     "data": {
      "text/plain": [
       "[0, 1, 2, 3, 4]"
      ]
     },
     "execution_count": 82,
     "metadata": {},
     "output_type": "execute_result"
    }
   ],
   "source": [
    "[i for i in range(5)]"
   ]
  },
  {
   "cell_type": "code",
   "execution_count": 85,
   "id": "226363a7-5805-4211-b070-0b638b8327fa",
   "metadata": {},
   "outputs": [
    {
     "data": {
      "text/plain": [
       "<generator object <genexpr> at 0x7faf30183c30>"
      ]
     },
     "execution_count": 85,
     "metadata": {},
     "output_type": "execute_result"
    }
   ],
   "source": [
    "(i for i in range(5))"
   ]
  },
  {
   "cell_type": "code",
   "execution_count": 86,
   "id": "b1c337c2-ba54-463b-bdb2-d6e76c424d9f",
   "metadata": {},
   "outputs": [
    {
     "data": {
      "text/plain": [
       "[0, 1, 2, 3, 4]"
      ]
     },
     "execution_count": 86,
     "metadata": {},
     "output_type": "execute_result"
    }
   ],
   "source": [
    "list((i for i in range(5)))"
   ]
  },
  {
   "cell_type": "code",
   "execution_count": 98,
   "id": "96d772d7-ee29-483d-b31a-9eb890fa12b5",
   "metadata": {},
   "outputs": [],
   "source": [
    "iterator = (i for i in range(5))"
   ]
  },
  {
   "cell_type": "code",
   "execution_count": 99,
   "id": "ac3e98c1-9fcf-4faa-81dd-29f9b4e2ab1f",
   "metadata": {},
   "outputs": [
    {
     "data": {
      "text/plain": [
       "<generator object <genexpr> at 0x7faf300645f0>"
      ]
     },
     "execution_count": 99,
     "metadata": {},
     "output_type": "execute_result"
    }
   ],
   "source": [
    "iterator"
   ]
  },
  {
   "cell_type": "code",
   "execution_count": 100,
   "id": "5bb0e056-efe9-4a2d-b288-974338ea47af",
   "metadata": {},
   "outputs": [
    {
     "data": {
      "text/plain": [
       "array([0., 1., 2., 3., 4.])"
      ]
     },
     "execution_count": 100,
     "metadata": {},
     "output_type": "execute_result"
    }
   ],
   "source": [
    "np.fromiter(iterator, float) #Create a new 1-dimensional array from an iterable object."
   ]
  },
  {
   "cell_type": "code",
   "execution_count": 90,
   "id": "7166e3fc-8eae-4bff-bebd-8b0260506d44",
   "metadata": {},
   "outputs": [
    {
     "data": {
      "text/plain": [
       "array([22., 23., 24.])"
      ]
     },
     "execution_count": 90,
     "metadata": {},
     "output_type": "execute_result"
    }
   ],
   "source": [
    "np.fromstring('22 23 24', sep = \" \")"
   ]
  },
  {
   "cell_type": "code",
   "execution_count": 102,
   "id": "0498212e-8e67-44d8-bbd4-17019bd2d57b",
   "metadata": {},
   "outputs": [
    {
     "data": {
      "text/plain": [
       "array([22, 23, 24])"
      ]
     },
     "execution_count": 102,
     "metadata": {},
     "output_type": "execute_result"
    }
   ],
   "source": [
    "np.fromstring('22 23 24', sep = \" \", dtype = int) #by default is float, values inside string should be nuerical"
   ]
  },
  {
   "cell_type": "code",
   "execution_count": 103,
   "id": "0d8d98f1-60c9-4a18-b08c-3d11ec97375d",
   "metadata": {},
   "outputs": [
    {
     "data": {
      "text/plain": [
       "['Ajay', ' Bijay', ' Sanjay']"
      ]
     },
     "execution_count": 103,
     "metadata": {},
     "output_type": "execute_result"
    }
   ],
   "source": [
    "#for string character you have to use split\n",
    "string = \"Ajay, Bijay, Sanjay\"\n",
    "string.split(\",\")"
   ]
  },
  {
   "cell_type": "code",
   "execution_count": 104,
   "id": "77748eef-803b-4144-972c-4d9acfd23c04",
   "metadata": {},
   "outputs": [
    {
     "data": {
      "text/plain": [
       "array(['Ajay', ' Bijay', ' Sanjay'], dtype='<U7')"
      ]
     },
     "execution_count": 104,
     "metadata": {},
     "output_type": "execute_result"
    }
   ],
   "source": [
    "np.array(string.split(\",\"))"
   ]
  },
  {
   "cell_type": "code",
   "execution_count": 106,
   "id": "163d9b1b-8f90-41ef-97df-85685f918fe6",
   "metadata": {},
   "outputs": [
    {
     "data": {
      "text/plain": [
       "[0, 1, 2, 3, 4, 5, 6, 7, 8, 9]"
      ]
     },
     "execution_count": 106,
     "metadata": {},
     "output_type": "execute_result"
    }
   ],
   "source": [
    "list(range(10))"
   ]
  },
  {
   "cell_type": "code",
   "execution_count": 108,
   "id": "843a5e1c-63d6-4c96-83ac-f765d86616f2",
   "metadata": {},
   "outputs": [
    {
     "data": {
      "text/plain": [
       "range(0, 10)"
      ]
     },
     "execution_count": 108,
     "metadata": {},
     "output_type": "execute_result"
    }
   ],
   "source": [
    "range(10)"
   ]
  },
  {
   "cell_type": "code",
   "execution_count": 107,
   "id": "b01fcff2-73e5-49a2-a30e-8fc2dd214e11",
   "metadata": {},
   "outputs": [
    {
     "data": {
      "text/plain": [
       "array([1, 2, 3, 4, 5, 6, 7, 8, 9])"
      ]
     },
     "execution_count": 107,
     "metadata": {},
     "output_type": "execute_result"
    }
   ],
   "source": [
    "#other method of numpy >> To generate a sequence of number\n",
    "np.arange(1, 10) #arange returns evenly spacified values within a given interval, by default step is 1"
   ]
  },
  {
   "cell_type": "code",
   "execution_count": 109,
   "id": "b1b10fa9-c1c8-4d2e-a152-110dda7178ee",
   "metadata": {},
   "outputs": [
    {
     "data": {
      "text/plain": [
       "array([1. , 1.1, 1.2, 1.3, 1.4, 1.5, 1.6, 1.7, 1.8, 1.9, 2. , 2.1, 2.2,\n",
       "       2.3, 2.4, 2.5, 2.6, 2.7, 2.8, 2.9, 3. , 3.1, 3.2, 3.3, 3.4, 3.5,\n",
       "       3.6, 3.7, 3.8, 3.9, 4. , 4.1, 4.2, 4.3, 4.4, 4.5, 4.6, 4.7, 4.8,\n",
       "       4.9, 5. , 5.1, 5.2, 5.3, 5.4, 5.5, 5.6, 5.7, 5.8, 5.9, 6. , 6.1,\n",
       "       6.2, 6.3, 6.4, 6.5, 6.6, 6.7, 6.8, 6.9, 7. , 7.1, 7.2, 7.3, 7.4,\n",
       "       7.5, 7.6, 7.7, 7.8, 7.9, 8. , 8.1, 8.2, 8.3, 8.4, 8.5, 8.6, 8.7,\n",
       "       8.8, 8.9, 9. , 9.1, 9.2, 9.3, 9.4, 9.5, 9.6, 9.7, 9.8, 9.9])"
      ]
     },
     "execution_count": 109,
     "metadata": {},
     "output_type": "execute_result"
    }
   ],
   "source": [
    "np.arange(1, 10, 0.1)"
   ]
  },
  {
   "cell_type": "code",
   "execution_count": 110,
   "id": "a814c139-8c74-4285-b59a-6e73f06ae2d6",
   "metadata": {},
   "outputs": [
    {
     "data": {
      "text/plain": [
       "array([1.        , 1.44444444, 1.88888889, 2.33333333, 2.77777778,\n",
       "       3.22222222, 3.66666667, 4.11111111, 4.55555556, 5.        ])"
      ]
     },
     "execution_count": 110,
     "metadata": {},
     "output_type": "execute_result"
    }
   ],
   "source": [
    "np.linspace(1,5, 10) #give me 10 numbers between 1 and 5"
   ]
  },
  {
   "cell_type": "code",
   "execution_count": null,
   "id": "cf2c7f30-4b22-4a9e-95a9-bf243e17e25f",
   "metadata": {},
   "outputs": [],
   "source": []
  }
 ],
 "metadata": {
  "kernelspec": {
   "display_name": "Python 3 (ipykernel)",
   "language": "python",
   "name": "python3"
  },
  "language_info": {
   "codemirror_mode": {
    "name": "ipython",
    "version": 3
   },
   "file_extension": ".py",
   "mimetype": "text/x-python",
   "name": "python",
   "nbconvert_exporter": "python",
   "pygments_lexer": "ipython3",
   "version": "3.10.8"
  }
 },
 "nbformat": 4,
 "nbformat_minor": 5
}
